{
 "cells": [
  {
   "cell_type": "code",
   "execution_count": null,
   "metadata": {},
   "outputs": [],
   "source": [
    "import numpy as np\n",
    "\n",
    "C = 2  # number of classes\n",
    "D = 33 # dimension of image\n",
    "N = 4  # number of samples\n",
    "\n",
    "#   W   X   =  Scores <- Y\n",
    "# CxD  DxN      CxN      N\n",
    "\n",
    "X = np.random.randint(0, 256, (D, N))\n",
    "Y = np.random.randint(0, C, N)\n",
    "W = np.random.random((C, D))"
   ]
  },
  {
   "cell_type": "code",
   "execution_count": null,
   "metadata": {},
   "outputs": [],
   "source": [
    "num_train = X.shape[1]\n",
    "num_classes = W.shape[0]\n",
    "scores = W.dot(X)\n",
    "Y, scores"
   ]
  },
  {
   "cell_type": "code",
   "execution_count": null,
   "metadata": {},
   "outputs": [],
   "source": [
    "correct_class_scores = scores[list(Y), range(num_train)]\n",
    "correct_class_scores"
   ]
  },
  {
   "cell_type": "code",
   "execution_count": null,
   "metadata": {},
   "outputs": [],
   "source": [
    "scores - correct_class_scores"
   ]
  },
  {
   "cell_type": "code",
   "execution_count": null,
   "metadata": {},
   "outputs": [],
   "source": [
    "margins = np.maximum(0, scores - correct_class_scores + 1)\n",
    "margins"
   ]
  },
  {
   "cell_type": "code",
   "execution_count": null,
   "metadata": {},
   "outputs": [],
   "source": [
    "margins[list(Y), range(num_train)] = 0\n",
    "margins"
   ]
  },
  {
   "cell_type": "code",
   "execution_count": null,
   "metadata": {},
   "outputs": [],
   "source": [
    "loss = np.sum(margins) / num_train\n",
    "loss"
   ]
  },
  {
   "cell_type": "code",
   "execution_count": null,
   "metadata": {},
   "outputs": [],
   "source": [
    "def loss_svm_vectorized(X, Y, W):\n",
    "    delta = 1.0\n",
    "    num_train = X.shape[1]\n",
    "    num_classes = W.shape[0]\n",
    "    scores = W.dot(X)\n",
    "    correct_class_scores = scores[list(Y), range(num_train)]\n",
    "    margins = np.maximum(0, scores - correct_class_scores + delta)\n",
    "    margins[list(Y), range(num_train)] = 0\n",
    "    loss = np.sum(margins) / num_train\n",
    "    return loss"
   ]
  },
  {
   "cell_type": "code",
   "execution_count": null,
   "metadata": {},
   "outputs": [],
   "source": [
    "loss_svm_vectorized(X, Y, W)"
   ]
  },
  {
   "cell_type": "code",
   "execution_count": null,
   "metadata": {},
   "outputs": [],
   "source": [
    "# correct_class_scores = scores[list(Y), range(num_train)].reshape(-1, 1)"
   ]
  }
 ],
 "metadata": {
  "kernelspec": {
   "display_name": "Python 3",
   "language": "python",
   "name": "python3"
  },
  "language_info": {
   "codemirror_mode": {
    "name": "ipython",
    "version": 3
   },
   "file_extension": ".py",
   "mimetype": "text/x-python",
   "name": "python",
   "nbconvert_exporter": "python",
   "pygments_lexer": "ipython3",
   "version": "3.6.5"
  }
 },
 "nbformat": 4,
 "nbformat_minor": 2
}
