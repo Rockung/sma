{
 "cells": [
  {
   "cell_type": "code",
   "execution_count": null,
   "metadata": {},
   "outputs": [],
   "source": [
    "import numpy as np\n",
    "\n",
    "C = 2  # number of classes\n",
    "D = 33 # dimension of image\n",
    "N = 4  # number of samples\n",
    "\n",
    "#   W   X   =  Scores <- Y\n",
    "# CxD  DxN      CxN      N\n",
    "\n",
    "X = np.random.randint(0, 256, (D, N))\n",
    "Y = np.random.randint(0, C, N)\n",
    "W = np.random.random((C, D))"
   ]
  },
  {
   "cell_type": "code",
   "execution_count": null,
   "metadata": {},
   "outputs": [],
   "source": [
    "num_train = X.shape[1]\n",
    "num_classes = W.shape[0]\n",
    "scores = W.dot(X)\n",
    "Y, scores"
   ]
  },
  {
   "cell_type": "code",
   "execution_count": null,
   "metadata": {},
   "outputs": [],
   "source": [
    "correct_class_scores = scores[list(Y), range(num_train)].reshape(1, -1)\n",
    "correct_class_scores"
   ]
  },
  {
   "cell_type": "code",
   "execution_count": null,
   "metadata": {},
   "outputs": [],
   "source": [
    "scores.shape, correct_class_scores.shape"
   ]
  },
  {
   "cell_type": "code",
   "execution_count": null,
   "metadata": {},
   "outputs": [],
   "source": [
    "scores - correct_class_scores"
   ]
  },
  {
   "cell_type": "code",
   "execution_count": null,
   "metadata": {},
   "outputs": [],
   "source": [
    "margins = np.maximum(0, scores - correct_class_scores + 1)\n",
    "margins"
   ]
  },
  {
   "cell_type": "code",
   "execution_count": null,
   "metadata": {},
   "outputs": [],
   "source": [
    "margins[list(Y), range(num_train)] = 0\n",
    "margins"
   ]
  },
  {
   "cell_type": "code",
   "execution_count": null,
   "metadata": {},
   "outputs": [],
   "source": [
    "coeff_mat = np.zeros((num_classes, num_train))\n",
    "coeff_mat.shape"
   ]
  },
  {
   "cell_type": "code",
   "execution_count": null,
   "metadata": {},
   "outputs": [],
   "source": [
    "coeff_mat[margins > 0] = 1\n",
    "coeff_mat"
   ]
  },
  {
   "cell_type": "code",
   "execution_count": null,
   "metadata": {},
   "outputs": [],
   "source": [
    "coeff_mat[list(Y), range(num_train)] = 0\n",
    "coeff_mat"
   ]
  },
  {
   "cell_type": "code",
   "execution_count": null,
   "metadata": {},
   "outputs": [],
   "source": [
    "sum_one = np.sum(coeff_mat, axis=0)\n",
    "sum_one.shape"
   ]
  },
  {
   "cell_type": "code",
   "execution_count": null,
   "metadata": {},
   "outputs": [],
   "source": [
    "coeff_mat[list(Y), range(num_train)] = -sum_one\n",
    "coeff_mat"
   ]
  },
  {
   "cell_type": "code",
   "execution_count": null,
   "metadata": {},
   "outputs": [],
   "source": [
    "dW = coeff_mat.dot(X.T)/num_train + 0.5*W\n",
    "dW.shape"
   ]
  },
  {
   "cell_type": "code",
   "execution_count": null,
   "metadata": {},
   "outputs": [],
   "source": [
    "W.shape"
   ]
  },
  {
   "cell_type": "code",
   "execution_count": null,
   "metadata": {},
   "outputs": [],
   "source": [
    "loss = np.sum(margins) / num_train\n",
    "loss"
   ]
  },
  {
   "cell_type": "code",
   "execution_count": null,
   "metadata": {},
   "outputs": [],
   "source": [
    "def loss_svm_vectorized(X, Y, W):\n",
    "    delta = 1.0\n",
    "    num_train = X.shape[1]\n",
    "    num_classes = W.shape[0]\n",
    "    scores = W.dot(X)\n",
    "    correct_class_scores = scores[list(Y), range(num_train)].reshape(1,-1)\n",
    "    margins = np.maximum(0, scores - correct_class_scores + delta)\n",
    "    margins[list(Y), range(num_train)] = 0\n",
    "    loss = np.sum(margins) / num_train\n",
    "    return loss"
   ]
  },
  {
   "cell_type": "code",
   "execution_count": null,
   "metadata": {},
   "outputs": [],
   "source": [
    "loss_svm_vectorized(X, Y, W)"
   ]
  },
  {
   "cell_type": "code",
   "execution_count": null,
   "metadata": {},
   "outputs": [],
   "source": [
    "def loss_svm_vectorized_T(X, Y, W):\n",
    "    delta = 1.0\n",
    "    num_train = X.shape[0]\n",
    "    num_classes = W.shape[1]\n",
    "    scores = X.dot(W)\n",
    "    correct_class_scores = scores[range(num_train), list(Y)].reshape(-1,1)\n",
    "    margins = np.maximum(0, scores - correct_class_scores + delta)\n",
    "    margins[range(num_train), list(Y)] = 0\n",
    "    loss = np.sum(margins) / num_train\n",
    "    return loss"
   ]
  },
  {
   "cell_type": "code",
   "execution_count": null,
   "metadata": {},
   "outputs": [],
   "source": [
    "loss_svm_vectorized_T(X.T, Y.T, W.T)"
   ]
  },
  {
   "cell_type": "code",
   "execution_count": null,
   "metadata": {},
   "outputs": [],
   "source": []
  }
 ],
 "metadata": {
  "kernelspec": {
   "display_name": "Python 3",
   "language": "python",
   "name": "python3"
  },
  "language_info": {
   "codemirror_mode": {
    "name": "ipython",
    "version": 3
   },
   "file_extension": ".py",
   "mimetype": "text/x-python",
   "name": "python",
   "nbconvert_exporter": "python",
   "pygments_lexer": "ipython3",
   "version": "3.6.5"
  }
 },
 "nbformat": 4,
 "nbformat_minor": 2
}
