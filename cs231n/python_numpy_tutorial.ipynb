{
 "cells": [
  {
   "cell_type": "markdown",
   "metadata": {},
   "source": [
    "# Python\n",
    "Python is a high-level, dynamically typed multiparadigm programming lauguage. Python code is often said to be almost like pseudocode, since it allows you to express very powerful ideas in very few lines of code while being very readable."
   ]
  },
  {
   "cell_type": "code",
   "execution_count": null,
   "metadata": {},
   "outputs": [],
   "source": [
    "# An implementation of the classic quicksort algorithm\n",
    "def quicksort(arr):\n",
    "    if len(arr) <= 1:\n",
    "        return arr\n",
    "    pivot = arr[len(arr) // 2]\n",
    "    left = [x for x in arr if x < pivot]\n",
    "    middle = [x for x in arr if x == pivot]\n",
    "    right = [x for x in arr if x > pivot]\n",
    "    return quicksort(left) + middle + quicksort(right)\n",
    "\n",
    "print(quicksort([3,6,8,10,1,2,1]))"
   ]
  },
  {
   "cell_type": "markdown",
   "metadata": {},
   "source": [
    "## Basic Data Types"
   ]
  },
  {
   "cell_type": "markdown",
   "metadata": {},
   "source": [
    "### Numbers\n",
    "integers and floats"
   ]
  },
  {
   "cell_type": "code",
   "execution_count": null,
   "metadata": {},
   "outputs": [],
   "source": [
    "x = 3\n",
    "print(type(x))\n",
    "print(x)\n",
    "print(x + 1)\n",
    "print(x - 1)\n",
    "print(x * 2)\n",
    "print(x ** 2)\n",
    "x += 1\n",
    "print(x)\n",
    "x *= 2\n",
    "print(x)\n",
    "\n",
    "y = 2.5\n",
    "print(type(y))\n",
    "print(y, y+1, y*2, y**2)"
   ]
  },
  {
   "cell_type": "markdown",
   "metadata": {},
   "source": [
    "### Booleans\n",
    "usual operators in english words rather than symbols(&&, || ,etc)"
   ]
  },
  {
   "cell_type": "code",
   "execution_count": null,
   "metadata": {},
   "outputs": [],
   "source": [
    "t = True\n",
    "f = False\n",
    "print(type(t))\n",
    "print(t and f)\n",
    "print(t or f)\n",
    "print(not t)\n",
    "print(t != f)"
   ]
  },
  {
   "cell_type": "markdown",
   "metadata": {},
   "source": [
    "### Strings\n",
    "* great support for strings\n",
    "* string objects have a bunch of useful methods"
   ]
  },
  {
   "cell_type": "code",
   "execution_count": null,
   "metadata": {},
   "outputs": [],
   "source": [
    "hello = 'hello'\n",
    "world = \"world\"\n",
    "print(hello)\n",
    "print(len(hello))\n",
    "hw = hello + ' ' + world\n",
    "print(hw)\n",
    "hw12 = '%s %s %d' % (hello, world, 12)\n",
    "print(hw12)"
   ]
  },
  {
   "cell_type": "code",
   "execution_count": null,
   "metadata": {},
   "outputs": [],
   "source": [
    "s = \"hello\"\n",
    "print(s.capitalize())\n",
    "print(s.upper())\n",
    "print(s.rjust(7))\n",
    "print(s.center(7))\n",
    "print(s.replace('l', '(ell)'))\n",
    "print('  world'.strip())"
   ]
  },
  {
   "cell_type": "markdown",
   "metadata": {},
   "source": [
    "## Containers\n",
    "built-in container types: lists, dictionaries, sets and tuples"
   ]
  },
  {
   "cell_type": "markdown",
   "metadata": {},
   "source": [
    "### Lists\n",
    "equivalent of an array, resizable and can contain elements of different types"
   ]
  },
  {
   "cell_type": "code",
   "execution_count": null,
   "metadata": {},
   "outputs": [],
   "source": [
    "xs = [3, 1, 2]\n",
    "print(xs, xs[2])\n",
    "print(xs[-1])\n",
    "xs[2] = 'foo'\n",
    "print(xs)\n",
    "xs.append('bar')\n",
    "print(xs)\n",
    "x = xs.pop()\n",
    "print(x, xs)"
   ]
  },
  {
   "cell_type": "code",
   "execution_count": null,
   "metadata": {},
   "outputs": [],
   "source": [
    "# Slicing: concise syntax to access sublists\n",
    "nums = list(range(5))\n",
    "print(nums)\n",
    "print(nums[2:4])\n",
    "print(nums[2:])\n",
    "print(nums[:2])\n",
    "print(nums[:])\n",
    "print(nums[:-1])\n",
    "nums[2:4] = [8, 9]\n",
    "print(nums)"
   ]
  },
  {
   "cell_type": "code",
   "execution_count": null,
   "metadata": {},
   "outputs": [],
   "source": [
    "# Loops: loop over the elements of a list\n",
    "animals = ['cat', 'dog', 'monkey']\n",
    "\n",
    "for animal in animals:\n",
    "    print(animal)\n",
    "    \n",
    "# access to the index of each element in the loop\n",
    "for idx, animal in enumerate(animals):\n",
    "    print('#%d: %s' % (idx+1, animal))"
   ]
  },
  {
   "cell_type": "code",
   "execution_count": null,
   "metadata": {},
   "outputs": [],
   "source": [
    "# List comprehensions: transform one type of data into another\n",
    "nums = [0, 1, 2, 3, 4]\n",
    "\n",
    "# the code to compute square numbers\n",
    "squares = []\n",
    "for x in nums:\n",
    "    squares.append(x**2)\n",
    "print(squares)\n",
    "\n",
    "# using a list comprehension\n",
    "squares = [x**2 for x in nums]\n",
    "print(squares)\n",
    "\n",
    "# list comprehension with conditions\n",
    "even_squares = [x**2 for x in nums if x%2 == 0]\n",
    "print(even_squares)"
   ]
  },
  {
   "cell_type": "markdown",
   "metadata": {},
   "source": [
    "### Dictionaries\n",
    "store (key, value) pairs"
   ]
  },
  {
   "cell_type": "code",
   "execution_count": null,
   "metadata": {},
   "outputs": [],
   "source": [
    "d = {'cat': 'cute', 'dog': 'furry'}\n",
    "print(d['cat'])\n",
    "print('cat' in d)\n",
    "d['fish'] = 'wet'\n",
    "print(d['fish'])\n",
    "print(d.get('monkey', 'N/A'))\n",
    "print(d.get('fish', 'N/A'))\n",
    "del d['fish']\n",
    "print(d.get('fish', 'N/A'))"
   ]
  },
  {
   "cell_type": "code",
   "execution_count": null,
   "metadata": {},
   "outputs": [],
   "source": [
    "# loops\n",
    "\n",
    "# iterate over the keys in a dictionary\n",
    "d = {'person': 2, 'cat': 4, 'spider': 8}\n",
    "for animal in d:\n",
    "    legs = d[animal]\n",
    "    print('A %s has %d legs' % (animal, legs))\n",
    "    \n",
    "# access to keys and their corresponding values\n",
    "for animal, legs in d.items():\n",
    "    print('A %s has %d legs' % (animal, legs))"
   ]
  },
  {
   "cell_type": "code",
   "execution_count": null,
   "metadata": {},
   "outputs": [],
   "source": [
    "# dictionary comprehensions\n",
    "\n",
    "nums = [0, 1, 2, 3, 4]\n",
    "even_num_to_square = {x: x**2 for x in nums if x%2 == 0}\n",
    "print(even_num_to_square)"
   ]
  },
  {
   "cell_type": "markdown",
   "metadata": {},
   "source": [
    "### Sets\n",
    "an unordered collection of distinct elements"
   ]
  },
  {
   "cell_type": "code",
   "execution_count": null,
   "metadata": {},
   "outputs": [],
   "source": [
    "animals = {'cat', 'dog'}\n",
    "print('cat' in animals)\n",
    "print('fish' in animals)\n",
    "animals.add('fish')\n",
    "print('fish' in animals)\n",
    "print(len(animals))\n",
    "animals.add('cat')\n",
    "print(len(animals))\n",
    "animals.remove('cat')\n",
    "print(len(animals))"
   ]
  },
  {
   "cell_type": "code",
   "execution_count": null,
   "metadata": {},
   "outputs": [],
   "source": [
    "# loops\n",
    "\n",
    "animals = {'cat', 'dog', 'fish'}\n",
    "for idx, animal in enumerate(animals):\n",
    "    print('#%d: %s' % (idx+1, animal))"
   ]
  },
  {
   "cell_type": "code",
   "execution_count": null,
   "metadata": {},
   "outputs": [],
   "source": [
    "# set comprehensions\n",
    "\n",
    "from math import sqrt\n",
    "nums = {int(sqrt(x)) for x in range(30)}\n",
    "print(nums)"
   ]
  },
  {
   "cell_type": "markdown",
   "metadata": {},
   "source": [
    "### Tuples\n",
    "A tuple is an immutable ordered list of values, which similar to a list in many ways.\n",
    "Tuples can can be used as keys in dictionaries and as elements of sets, while lists cannot."
   ]
  },
  {
   "cell_type": "code",
   "execution_count": null,
   "metadata": {},
   "outputs": [],
   "source": [
    "d = {(x, x+1): x for x in range(10)}\n",
    "t = (5,6)\n",
    "print(type(t))\n",
    "print(d[t])\n",
    "print(d[(1,2)])\n",
    "print(t[0])\n",
    "print(t[1])"
   ]
  },
  {
   "cell_type": "code",
   "execution_count": null,
   "metadata": {},
   "outputs": [],
   "source": [
    "d = {(x, x+1) for x in range(10)}\n",
    "for t in d:\n",
    "    print(t)"
   ]
  },
  {
   "cell_type": "markdown",
   "metadata": {},
   "source": [
    "## Functions\n",
    "defined using the **def** keyword"
   ]
  },
  {
   "cell_type": "code",
   "execution_count": null,
   "metadata": {},
   "outputs": [],
   "source": [
    "def sign(x):\n",
    "    if x > 0:\n",
    "        return 'positive'\n",
    "    elif x < 0:\n",
    "        return 'negative'\n",
    "    else:\n",
    "        return 'zero'\n",
    "\n",
    "for x in [-1, 0, 1]:\n",
    "    print(sign(x))"
   ]
  },
  {
   "cell_type": "code",
   "execution_count": null,
   "metadata": {},
   "outputs": [],
   "source": [
    "# optional keyword arguments\n",
    "def hello(name, loud=False):\n",
    "    if loud:\n",
    "        print('HELLO, %s!' % name.upper())\n",
    "    else:\n",
    "        print('Hello, %s' % name)\n",
    "        \n",
    "hello('Bob')\n",
    "hello('Fred', loud=True)"
   ]
  },
  {
   "cell_type": "markdown",
   "metadata": {},
   "source": [
    "## Classes\n",
    "The syntax for defining classes in Python is straightforward"
   ]
  },
  {
   "cell_type": "code",
   "execution_count": null,
   "metadata": {},
   "outputs": [],
   "source": [
    "class Greeter(object):\n",
    "    # constructor\n",
    "    def __init__(self, name):\n",
    "        self.name = name\n",
    "        \n",
    "    # instance method\n",
    "    def greet(self, loud=False):\n",
    "        if loud:\n",
    "            print('HELLO, %s!' % self.name.upper())\n",
    "        else:\n",
    "            print('Hello, %s' % self.name)\n",
    "            \n",
    "g = Greeter('Fred')\n",
    "g.greet()\n",
    "g.greet(loud=True)"
   ]
  },
  {
   "cell_type": "markdown",
   "metadata": {},
   "source": [
    "# NumPy\n",
    "* core library for scientific computing\n",
    "* high-performance multidimensional array"
   ]
  },
  {
   "cell_type": "markdown",
   "metadata": {},
   "source": [
    "## Arrays(Tensors in math)\n",
    "A numpy array is a grid of values, all of the same type, and is indexed by a tuple of nonnegative integers.\n",
    "* shape: a tuple of integers giving the size of the array along each dimension, Eg. (n1, n2, n3)\n",
    "* axis: each dimension is an axis and ordered by axis number: 0, 1, 2, ...\n",
    "* rank: # of dimensions"
   ]
  },
  {
   "cell_type": "code",
   "execution_count": null,
   "metadata": {},
   "outputs": [],
   "source": [
    "import numpy as np\n",
    "\n",
    "a = np.array([1, 2, 3])\n",
    "print(type(a))\n",
    "print(a.shape)\n",
    "\n",
    "# indexing\n",
    "print(a[0], a[1], a[2])\n",
    "a[0] = 5\n",
    "print(a)\n",
    "\n",
    "b = np.array([[1, 2, 3],[4, 5, 6]])\n",
    "print(b)\n",
    "print(b.shape)\n",
    "\n",
    "# multi-dimension indexing\n",
    "print(b[0,0], b[0,1], b[1,0])"
   ]
  },
  {
   "cell_type": "code",
   "execution_count": null,
   "metadata": {},
   "outputs": [],
   "source": [
    "# functions to create arrays\n",
    "\n",
    "import numpy as np\n",
    "\n",
    "a = np.zeros((2,2))\n",
    "print(a)\n",
    "\n",
    "b = np.ones((1,2))\n",
    "print(b)\n",
    "\n",
    "c = np.full((2,2), 7)\n",
    "print(c)\n",
    "\n",
    "d = np.eye(2)\n",
    "print(d)\n",
    "\n",
    "e = np.random.random((2,2))\n",
    "print(e)"
   ]
  },
  {
   "cell_type": "code",
   "execution_count": null,
   "metadata": {},
   "outputs": [],
   "source": [
    "# slicing\n",
    "\n",
    "import numpy as np\n",
    "\n",
    "a = np.array([\n",
    "    [1,2,3,4],\n",
    "    [5,6,7,8],\n",
    "    [9,10,11,12],\n",
    "])\n",
    "print(a)\n",
    "\n",
    "b = a[:2, 1:3]\n",
    "print(b)\n",
    "\n",
    "print(a[0, 1])\n",
    "b[0, 0] = 77\n",
    "print(a[0, 1])"
   ]
  },
  {
   "cell_type": "code",
   "execution_count": null,
   "metadata": {},
   "outputs": [],
   "source": [
    "# slicing and integer indexing\n",
    "\n",
    "import numpy as np\n",
    "\n",
    "a = np.array([\n",
    "    [1,2,3,4],\n",
    "    [5,6,7,8],\n",
    "    [9,10,11,12],\n",
    "])\n",
    "print(a)\n",
    "\n",
    "# Two ways of accessing the data in the middle row of the array.\n",
    "# Mixing integer indexing with slices yields an array of lower rank,\n",
    "# while using only slices yields an array of the same rank as the\n",
    "# original array:\n",
    "row_r1 = a[1, :]\n",
    "row_r2 = a[1:2, :]\n",
    "print(row_r1, row_r1.shape)\n",
    "print(row_r2, row_r2.shape)\n",
    "\n",
    "col_r1 = a[:, 1]\n",
    "col_r2 = a[:, 1:2]\n",
    "print(col_r1, col_r1.shape)\n",
    "print(col_r2, col_r2.shape)"
   ]
  },
  {
   "cell_type": "code",
   "execution_count": null,
   "metadata": {},
   "outputs": [],
   "source": [
    "# integer array indexing\n",
    "\n",
    "import numpy as np\n",
    "\n",
    "a = np.array([[1,2], [3,4], [5,6]]) # shape(3,2)\n",
    "print(a)\n",
    "\n",
    "print(a[[0,1,2], [0,1,0]])                # shape(3,)\n",
    "print(np.array([a[0,0], a[1,1], a[2,0]])) # same as the above\n",
    "\n",
    "# reuse the same elements from the source array\n",
    "print(a[[0,0], [1,1]])\n",
    "print(np.array([a[0, 1], a[0, 1]]))"
   ]
  },
  {
   "cell_type": "code",
   "execution_count": null,
   "metadata": {},
   "outputs": [],
   "source": [
    "import numpy as np\n",
    "\n",
    "a = np.array([[1,2,3], [4,5,6], [7,8,9], [10,11,12]])\n",
    "print(a)\n",
    "\n",
    "# create an array of indices\n",
    "b = np.array([0, 2, 0 ,1])\n",
    "\n",
    "# an array as indices\n",
    "print(a[np.arange(4), b])\n",
    "\n",
    "# mutate\n",
    "a[np.arange(4), b] += 10\n",
    "print(a)"
   ]
  },
  {
   "cell_type": "code",
   "execution_count": null,
   "metadata": {},
   "outputs": [],
   "source": [
    "# boolean array indexing\n",
    "\n",
    "import numpy as np\n",
    "\n",
    "a = np.array([[1,2], [3,4], [5,6]])\n",
    "\n",
    "bool_idx = (a > 2)\n",
    "print(bool_idx)\n",
    "\n",
    "print(a[bool_idx])\n",
    "print(a[a > 2])"
   ]
  },
  {
   "cell_type": "markdown",
   "metadata": {},
   "source": [
    "## Datatypes\n",
    "optional argument to explicitly specify the datatype"
   ]
  },
  {
   "cell_type": "code",
   "execution_count": null,
   "metadata": {},
   "outputs": [],
   "source": [
    "import numpy as np\n",
    "\n",
    "x = np.array([1,2])\n",
    "print(x.dtype)\n",
    "\n",
    "x = np.array([1.0, 2.0])\n",
    "print(x.dtype)\n",
    "\n",
    "x = np.array([1,2], dtype=np.int64)\n",
    "print(x.dtype)"
   ]
  },
  {
   "cell_type": "markdown",
   "metadata": {},
   "source": [
    "## Basic Operations\n",
    "* basic math functions operate elementwise on arrays\n",
    "* available both as operator overloads and as functions"
   ]
  },
  {
   "cell_type": "code",
   "execution_count": null,
   "metadata": {},
   "outputs": [],
   "source": [
    "import numpy as np\n",
    "\n",
    "x = np.array([[1,2], [3,4]], dtype=np.float64)\n",
    "y = np.array([[5,6], [7,8]], dtype=np.float64)\n",
    "\n",
    "print(x + y)\n",
    "print(np.add(x, y))\n",
    "\n",
    "print(x - y)\n",
    "print(np.subtract(x, y))\n",
    "\n",
    "print(x * y)\n",
    "print(np.multiply(x, y))\n",
    "\n",
    "print(x / y)\n",
    "print(np.divide(x, y))\n",
    "\n",
    "print(np.sqrt(x))"
   ]
  },
  {
   "cell_type": "markdown",
   "metadata": {},
   "source": [
    "## dot Operation\n",
    "available both as a function and as an instance method of array objects"
   ]
  },
  {
   "cell_type": "code",
   "execution_count": null,
   "metadata": {},
   "outputs": [],
   "source": [
    "import numpy as np\n",
    "\n",
    "x = np.array([[1,2], [3,4]])\n",
    "y = np.array([[5,6], [7,8]])\n",
    "\n",
    "v = np.array([9,10])\n",
    "w = np.array([11,12])\n",
    "\n",
    "# inner product of vectors\n",
    "print(v.dot(w))\n",
    "print(np.dot(v, w))\n",
    "\n",
    "# matrix/vector product\n",
    "print(x.dot(v))\n",
    "print(np.dot(x, v))\n",
    "\n",
    "# matrix/matrix product\n",
    "print(x.dot(y))\n",
    "print(np.dot(x, y))"
   ]
  },
  {
   "cell_type": "markdown",
   "metadata": {},
   "source": [
    "## Useful functions"
   ]
  },
  {
   "cell_type": "code",
   "execution_count": null,
   "metadata": {},
   "outputs": [],
   "source": [
    "# sum\n",
    "\n",
    "import numpy as np\n",
    "\n",
    "x = np.array([[1,2], [3,4]])\n",
    "\n",
    "print(x)\n",
    "print(np.sum(x))\n",
    "print(np.sum(x, axis=0)) # sum of each column\n",
    "print(np.sum(x, axis=1)) # sum of each row"
   ]
  },
  {
   "cell_type": "code",
   "execution_count": null,
   "metadata": {},
   "outputs": [],
   "source": [
    "# Transpose\n",
    "\n",
    "import numpy as np\n",
    "\n",
    "x = np.array([[1,2], [3,4]])\n",
    "print(x)\n",
    "print(x.T)\n",
    "\n",
    "v = np.array([1,2,3])\n",
    "print(v)\n",
    "print(v.T)"
   ]
  },
  {
   "cell_type": "markdown",
   "metadata": {},
   "source": [
    "## Broadcasting\n",
    "powerful mechanism that allows numpy to work with arrays of different shapes when performing arithmetic operations. we want to use the smaller array multiple times to perform some operation on the larger array."
   ]
  },
  {
   "cell_type": "code",
   "execution_count": null,
   "metadata": {},
   "outputs": [],
   "source": [
    "import numpy as np\n",
    "\n",
    "x = np.array([[1,2,3], [4,5,6], [7,8,9], [10,11,12]])\n",
    "v = np.array([1,0,1])\n",
    "y = np.empty_like(x)\n",
    "\n",
    "for i in range(4):\n",
    "    y[i, :] = x[i, :] + v\n",
    "    \n",
    "print(y)"
   ]
  },
  {
   "cell_type": "code",
   "execution_count": null,
   "metadata": {},
   "outputs": [],
   "source": [
    "import numpy as np\n",
    "\n",
    "x = np.array([[1,2,3], [4,5,6], [7,8,9], [10,11,12]])\n",
    "v = np.array([1,0,1])\n",
    "\n",
    "vv = np.tile(v, (4,1))\n",
    "print(vv)\n",
    "\n",
    "y = x + vv\n",
    "print(y)"
   ]
  },
  {
   "cell_type": "code",
   "execution_count": null,
   "metadata": {},
   "outputs": [],
   "source": [
    "import numpy as np\n",
    "\n",
    "x = np.array([[1,2,3], [4,5,6], [7,8,9], [10,11,12]])\n",
    "v = np.array([1,0,1])\n",
    "\n",
    "y = x + v\n",
    "print(y)"
   ]
  },
  {
   "cell_type": "code",
   "execution_count": null,
   "metadata": {},
   "outputs": [],
   "source": [
    "# some applications\n",
    "\n",
    "import numpy as np\n",
    "\n",
    "v = np.array([1,2,3])\n",
    "w = np.array([4,5])\n",
    "print(np.reshape(v, (3,1)) * w)\n",
    "\n",
    "x = np.array([[1,2,3], [4,5,6]])\n",
    "print(x + v)\n",
    "\n",
    "print((x.T + w).T)\n",
    "print(x + np.reshape(w, (2,1)))\n",
    "\n",
    "# scalar shape: ()\n",
    "print(x * 2)"
   ]
  },
  {
   "cell_type": "markdown",
   "metadata": {},
   "source": [
    "# SciPy\n",
    "SciPy builds on NumPy, and provides a large number of functions that operate on NumPy arrays and are useful for different types of scientific and engineering applications"
   ]
  },
  {
   "cell_type": "code",
   "execution_count": null,
   "metadata": {},
   "outputs": [],
   "source": [
    "from scipy.misc import imread, imsave, imresize\n",
    "\n",
    "img = imread('data/cat.jpg')\n",
    "print(img.dtype, img.shape)\n",
    "\n",
    "img_tinted = img * [1, 0.95, 0.9]\n",
    "img_tinted = imresize(img_tinted, (300, 300))\n",
    "\n",
    "imsave('data/cat_tinted.jpg', img_tinted)"
   ]
  },
  {
   "cell_type": "code",
   "execution_count": null,
   "metadata": {},
   "outputs": [],
   "source": [
    "import numpy as np\n",
    "from scipy.spatial.distance import pdist, squareform\n",
    "\n",
    "x = np.array([[0,1], [1,0], [2,0]])\n",
    "print(x)\n",
    "\n",
    "d = squareform(pdist(x, 'euclidean'))\n",
    "print(d)"
   ]
  },
  {
   "cell_type": "markdown",
   "metadata": {},
   "source": [
    "# Matplotlib"
   ]
  },
  {
   "cell_type": "markdown",
   "metadata": {},
   "source": [
    "## Ploting"
   ]
  },
  {
   "cell_type": "code",
   "execution_count": null,
   "metadata": {},
   "outputs": [],
   "source": [
    "%matplotlib inline\n",
    "\n",
    "import numpy as np\n",
    "import matplotlib.pyplot as plt\n",
    "\n",
    "x = np.arange(0, 3*np.pi, 0.1)\n",
    "y = np.sin(x)\n",
    "\n",
    "plt.plot(x, y)\n",
    "plt.show()"
   ]
  },
  {
   "cell_type": "code",
   "execution_count": null,
   "metadata": {},
   "outputs": [],
   "source": [
    "%matplotlib inline\n",
    "\n",
    "import numpy as np\n",
    "import matplotlib.pyplot as plt\n",
    "\n",
    "x = np.arange(0, 3*np.pi, 0.1)\n",
    "y_sin = np.sin(x)\n",
    "y_cos = np.cos(x)\n",
    "\n",
    "plt.plot(x, y_sin)\n",
    "plt.plot(x, y_cos)\n",
    "plt.xlabel('x axis label')\n",
    "plt.ylabel('y axis label')\n",
    "plt.title('Sine and Cosine')\n",
    "plt.legend(['Sine', 'Cosine'])\n",
    "plt.show()"
   ]
  },
  {
   "cell_type": "markdown",
   "metadata": {},
   "source": [
    "## Subplots"
   ]
  },
  {
   "cell_type": "code",
   "execution_count": null,
   "metadata": {},
   "outputs": [],
   "source": [
    "%matplotlib inline\n",
    "\n",
    "import numpy as np\n",
    "import matplotlib.pyplot as plt\n",
    "\n",
    "x = np.arange(0, 3*np.pi, 0.1)\n",
    "y_sin = np.sin(x)\n",
    "y_cos = np.cos(x)\n",
    "\n",
    "# subplot grid: 2x1\n",
    "\n",
    "# height 2, width 1, the first subplot\n",
    "plt.subplot(2,1,1)\n",
    "plt.plot(x, y_sin)\n",
    "plt.title('Sine')\n",
    "\n",
    "# height2, width 1, the second subplot\n",
    "plt.subplot(2,1,2)\n",
    "plt.plot(x, y_cos)\n",
    "plt.title('Cosine')\n",
    "\n",
    "plt.show()"
   ]
  },
  {
   "cell_type": "markdown",
   "metadata": {},
   "source": [
    "## Images"
   ]
  },
  {
   "cell_type": "code",
   "execution_count": null,
   "metadata": {},
   "outputs": [],
   "source": [
    "%matplotlib inline\n",
    "\n",
    "import numpy as np\n",
    "import matplotlib.pyplot as plt\n",
    "from scipy.misc import imread, imresize\n",
    "\n",
    "img = imread('data/cat.jpg')\n",
    "img_tinted = img * [1, 0.95, 0.9]\n",
    "\n",
    "plt.subplot(1, 2, 1)\n",
    "plt.imshow(img)\n",
    "\n",
    "plt.subplot(1, 2, 2)\n",
    "plt.imshow(np.uint8(img_tinted))"
   ]
  },
  {
   "cell_type": "code",
   "execution_count": null,
   "metadata": {},
   "outputs": [],
   "source": []
  }
 ],
 "metadata": {
  "kernelspec": {
   "display_name": "Python 3",
   "language": "python",
   "name": "python3"
  },
  "language_info": {
   "codemirror_mode": {
    "name": "ipython",
    "version": 3
   },
   "file_extension": ".py",
   "mimetype": "text/x-python",
   "name": "python",
   "nbconvert_exporter": "python",
   "pygments_lexer": "ipython3",
   "version": "3.6.5"
  }
 },
 "nbformat": 4,
 "nbformat_minor": 2
}
