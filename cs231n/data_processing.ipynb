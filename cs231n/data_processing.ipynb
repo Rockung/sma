{
 "cells": [
  {
   "cell_type": "markdown",
   "metadata": {},
   "source": [
    "# Data Processing"
   ]
  },
  {
   "cell_type": "code",
   "execution_count": null,
   "metadata": {},
   "outputs": [],
   "source": [
    "import numpy as np\n",
    "from numpy.random import randn"
   ]
  },
  {
   "cell_type": "code",
   "execution_count": null,
   "metadata": {},
   "outputs": [],
   "source": [
    "X = randn(4, 4)\n",
    "X"
   ]
  },
  {
   "cell_type": "markdown",
   "metadata": {},
   "source": [
    "## Zero-centered"
   ]
  },
  {
   "cell_type": "code",
   "execution_count": null,
   "metadata": {},
   "outputs": [],
   "source": [
    "mean = np.mean(X, axis=0)\n",
    "mean"
   ]
  },
  {
   "cell_type": "code",
   "execution_count": null,
   "metadata": {},
   "outputs": [],
   "source": [
    "# axis=0 means column\n",
    "(X[0,0]+X[1,0]+X[2,0]+X[3,0]) / 4"
   ]
  },
  {
   "cell_type": "code",
   "execution_count": null,
   "metadata": {},
   "outputs": [],
   "source": [
    "# zero-centered\n",
    "X -= mean\n",
    "X"
   ]
  },
  {
   "cell_type": "markdown",
   "metadata": {},
   "source": [
    "## Normalized"
   ]
  },
  {
   "cell_type": "code",
   "execution_count": null,
   "metadata": {},
   "outputs": [],
   "source": [
    "std = np.std(X, axis=0)\n",
    "std"
   ]
  },
  {
   "cell_type": "code",
   "execution_count": null,
   "metadata": {},
   "outputs": [],
   "source": [
    "x_mean = (X[0,0]+X[1,0]+X[2,0]+X[3,0]) / 4\n",
    "\n",
    "x0 = X[0,0] - x_mean\n",
    "x1 = X[1,0] - x_mean\n",
    "x2 = X[2,0] - x_mean\n",
    "x3 = X[3,0] - x_mean\n",
    "\n",
    "np.sqrt((x0**2 + x1**2 + x2**2 + x3**2) / 4)"
   ]
  },
  {
   "cell_type": "code",
   "execution_count": null,
   "metadata": {},
   "outputs": [],
   "source": [
    "# normalized\n",
    "X /= std\n",
    "X"
   ]
  },
  {
   "cell_type": "code",
   "execution_count": null,
   "metadata": {},
   "outputs": [],
   "source": [
    "# X -= np.mean(X, axis=0)\n",
    "# X /= np.std(X, axis=0)"
   ]
  },
  {
   "cell_type": "markdown",
   "metadata": {},
   "source": [
    "## PCA and Whitening"
   ]
  },
  {
   "cell_type": "code",
   "execution_count": null,
   "metadata": {},
   "outputs": [],
   "source": [
    "import numpy as np\n",
    "\n",
    "X = np.random.randn(8, 4)         # input data matrix X of size [NxD]\n",
    "X -= np.mean(X, axis=0)           # zero-center the data (important)\n",
    "\n",
    "# **covariance matrix**\n",
    "# The (i,j) element of the data covariance matrix contains the covariance\n",
    "# between i-th and j-th dimension of the data. In particular, the diagonal\n",
    "# of this matrix contains the variances. Furthermore, the covariance matrix\n",
    "# is symmetric and positive semi-definite. We can compute the SVD \n",
    "# factorization of the data covariance matrix:\n",
    "cov = np.dot(X.T, X) / X.shape[0]\n",
    "\n",
    "# **SVD factorization**\n",
    "# We can compute the SVD factorization of the data covariance matrix, where\n",
    "# the columns of U are the eigenvectors and S is a 1-D array of the singular\n",
    "# values\n",
    "U,S,V = np.linalg.svd(cov)\n",
    "\n",
    "# **Decorrelate the data**\n",
    "# To decorrelate the data, we project the original (but zero-centered) data\n",
    "# into the eigenbasis. Notice that the columns of U are a set of orthonormal\n",
    "# vectors (norm of 1, and orthogonal to each other), so they can be regarded\n",
    "# as basis vectors. The projection therefore corresponds to a rotation of \n",
    "# the data in X so that the new axes are the eigenvectors. If we were to \n",
    "# compute the covariance matrix of Xrot, we would see that it is now diagonal.\n",
    "# A nice property of np.linalg.svd is that in its returned value U, the \n",
    "# eigenvector columns are sorted by their eigenvalues.\n",
    "Xrot = np.dot(X, U)\n",
    "\n",
    "# **reduce the dimensionality**\n",
    "# We can use this to reduce the dimensionality of the data by only using the \n",
    "# top few eigenvectors, and discarding the dimensions along which the data \n",
    "# has no variance. This is also sometimes refereed to as Principal Component \n",
    "# Analysis (PCA) dimensionality reduction\n",
    "Xrot_reduced = np.dot(X, U[:, :4])\n",
    "\n",
    "# **whiten the data**\n",
    "# The whitening operation takes the data in the eigenbasis and divides every\n",
    "# dimension by the eigenvalue to normalize the scale. The geometric interpretation\n",
    "# of this transformation is that if the input data is a multivariable gaussian,\n",
    "# then the whitened data will be a gaussian with zero mean and identity covariance\n",
    "# matrix. \n",
    "Xwhite = Xrot / np.sqrt(S + 1e-5) # adding 1e-5 to prevent division by zero"
   ]
  },
  {
   "cell_type": "code",
   "execution_count": null,
   "metadata": {},
   "outputs": [],
   "source": [
    "np.dot(U.T, U)"
   ]
  },
  {
   "cell_type": "markdown",
   "metadata": {},
   "source": [
    "## Formulas\n",
    "\n",
    "* Means $$ \\bar x = \\frac {\\sum_{i=1}^N x_i} {N} $$\n",
    "* Standard Deviation $$ s = \\sqrt {\\frac{\\sum_{i=1}^N (x_i - \\bar x)^2} {N} } $$"
   ]
  },
  {
   "cell_type": "markdown",
   "metadata": {},
   "source": [
    "## References\n",
    "* [Standard deviation](https://en.wikipedia.org/wiki/Standard_deviation)\n",
    "* [MathJax basic tutorial and quick reference](https://math.meta.stackexchange.com/questions/5020/mathjax-basic-tutorial-and-quick-reference)"
   ]
  }
 ],
 "metadata": {
  "kernelspec": {
   "display_name": "Python 3",
   "language": "python",
   "name": "python3"
  },
  "language_info": {
   "codemirror_mode": {
    "name": "ipython",
    "version": 3
   },
   "file_extension": ".py",
   "mimetype": "text/x-python",
   "name": "python",
   "nbconvert_exporter": "python",
   "pygments_lexer": "ipython3",
   "version": "3.6.5"
  }
 },
 "nbformat": 4,
 "nbformat_minor": 2
}
