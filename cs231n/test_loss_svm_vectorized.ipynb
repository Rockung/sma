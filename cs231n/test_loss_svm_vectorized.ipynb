{
 "cells": [
  {
   "cell_type": "code",
   "execution_count": 55,
   "metadata": {},
   "outputs": [],
   "source": [
    "import numpy as np\n",
    "\n",
    "C = 2  # number of classes\n",
    "D = 33 # dimension of image\n",
    "N = 4  # number of samples\n",
    "\n",
    "#   W   X   =  Scores <- Y\n",
    "# CxD  DxN      CxN      N\n",
    "\n",
    "X = np.random.randint(0, 256, (D, N))\n",
    "Y = np.random.randint(0, C, N)\n",
    "W = np.random.random((C, D))"
   ]
  },
  {
   "cell_type": "code",
   "execution_count": 56,
   "metadata": {},
   "outputs": [
    {
     "data": {
      "text/plain": [
       "(array([0, 1, 1, 1]),\n",
       " array([[2086.95457263, 2028.7869327 , 1723.29136367, 1874.60629913],\n",
       "        [2594.39969165, 2358.5643447 , 2346.64022018, 2153.26204627]]))"
      ]
     },
     "execution_count": 56,
     "metadata": {},
     "output_type": "execute_result"
    }
   ],
   "source": [
    "num_train = X.shape[1]\n",
    "num_classes = W.shape[0]\n",
    "scores = W.dot(X)\n",
    "Y, scores"
   ]
  },
  {
   "cell_type": "code",
   "execution_count": 57,
   "metadata": {},
   "outputs": [
    {
     "data": {
      "text/plain": [
       "array([2086.95457263, 2358.5643447 , 2346.64022018, 2153.26204627])"
      ]
     },
     "execution_count": 57,
     "metadata": {},
     "output_type": "execute_result"
    }
   ],
   "source": [
    "correct_class_scores = scores[Y, range(num_train)]\n",
    "correct_class_scores"
   ]
  },
  {
   "cell_type": "code",
   "execution_count": 58,
   "metadata": {},
   "outputs": [
    {
     "data": {
      "text/plain": [
       "array([[   0.        , -329.777412  , -623.34885651, -278.65574714],\n",
       "       [ 507.44511902,    0.        ,    0.        ,    0.        ]])"
      ]
     },
     "execution_count": 58,
     "metadata": {},
     "output_type": "execute_result"
    }
   ],
   "source": [
    "scores - correct_class_scores"
   ]
  },
  {
   "cell_type": "code",
   "execution_count": 59,
   "metadata": {},
   "outputs": [
    {
     "data": {
      "text/plain": [
       "array([[  1.        ,   0.        ,   0.        ,   0.        ],\n",
       "       [508.44511902,   1.        ,   1.        ,   1.        ]])"
      ]
     },
     "execution_count": 59,
     "metadata": {},
     "output_type": "execute_result"
    }
   ],
   "source": [
    "margins = np.maximum(0, scores - correct_class_scores + 1)\n",
    "margins"
   ]
  },
  {
   "cell_type": "code",
   "execution_count": 60,
   "metadata": {},
   "outputs": [
    {
     "data": {
      "text/plain": [
       "array([[  0.        ,   0.        ,   0.        ,   0.        ],\n",
       "       [508.44511902,   0.        ,   0.        ,   0.        ]])"
      ]
     },
     "execution_count": 60,
     "metadata": {},
     "output_type": "execute_result"
    }
   ],
   "source": [
    "margins[Y, range(num_train)] = 0\n",
    "margins"
   ]
  },
  {
   "cell_type": "code",
   "execution_count": 61,
   "metadata": {},
   "outputs": [
    {
     "data": {
      "text/plain": [
       "127.11127975451734"
      ]
     },
     "execution_count": 61,
     "metadata": {},
     "output_type": "execute_result"
    }
   ],
   "source": [
    "loss = np.sum(margins) / num_train\n",
    "loss"
   ]
  },
  {
   "cell_type": "code",
   "execution_count": 62,
   "metadata": {},
   "outputs": [],
   "source": [
    "def loss_svm_vectorized(X, Y, W):\n",
    "    delta = 1.0\n",
    "    num_train = X.shape[1]\n",
    "    num_classes = W.shape[0]\n",
    "    scores = W.dot(X)\n",
    "    correct_class_scores = scores[Y, range(num_train)]\n",
    "    margins = np.maximum(0, scores - correct_class_scores + delta)\n",
    "    margins[Y, range(num_train)] = 0\n",
    "    loss = np.sum(margins) / num_train\n",
    "    return loss"
   ]
  },
  {
   "cell_type": "code",
   "execution_count": 63,
   "metadata": {},
   "outputs": [
    {
     "data": {
      "text/plain": [
       "127.11127975451734"
      ]
     },
     "execution_count": 63,
     "metadata": {},
     "output_type": "execute_result"
    }
   ],
   "source": [
    "loss_svm_vectorized(X, Y, W)"
   ]
  },
  {
   "cell_type": "code",
   "execution_count": null,
   "metadata": {},
   "outputs": [],
   "source": [
    "# correct_class_scores = scores[list(Y), range(num_train)].reshape(-1, 1)"
   ]
  }
 ],
 "metadata": {
  "kernelspec": {
   "display_name": "Python 3",
   "language": "python",
   "name": "python3"
  },
  "language_info": {
   "codemirror_mode": {
    "name": "ipython",
    "version": 3
   },
   "file_extension": ".py",
   "mimetype": "text/x-python",
   "name": "python",
   "nbconvert_exporter": "python",
   "pygments_lexer": "ipython3",
   "version": "3.6.5"
  }
 },
 "nbformat": 4,
 "nbformat_minor": 2
}
