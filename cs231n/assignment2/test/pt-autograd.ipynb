{
 "cells": [
  {
   "cell_type": "markdown",
   "metadata": {},
   "source": [
    "## PyTorch: Autograd\n",
    "\n",
    "A PyTorch Variable is a node in a computational graph\n",
    "* x.data is a Tensor\n",
    "* x.grad is a Variable of gradients(same shape as x.data)\n",
    "* x.grad.data is a Tensor of gradients"
   ]
  },
  {
   "cell_type": "code",
   "execution_count": 1,
   "metadata": {},
   "outputs": [],
   "source": [
    "import torch\n",
    "from torch.autograd import Variable"
   ]
  },
  {
   "cell_type": "code",
   "execution_count": 3,
   "metadata": {},
   "outputs": [],
   "source": [
    "N, D_in, H, D_out = 64, 1000, 100, 10\n",
    "\n",
    "# PyTorch Tensors and Variables have the same APIs\n",
    "# Variables remember how they were created(for backprop)\n",
    "# requires_grad=False: We will not want gradients of loss with respect to data\n",
    "# requires_grad=True: Do want gradients with respect to data\n",
    "x = Variable(torch.randn(N, D_in), requires_grad=False)\n",
    "y = Variable(torch.randn(N, D_out), requires_grad=False)\n",
    "w1 = Variable(torch.randn(D_in, H), requires_grad=True)\n",
    "w2 = Variable(torch.randn(H, D_out), requires_grad=True)"
   ]
  },
  {
   "cell_type": "code",
   "execution_count": 10,
   "metadata": {},
   "outputs": [],
   "source": [
    "learning_rate = 1e-6\n",
    "for t in range(500):\n",
    "    # Forward pass looks exactly the same as the Tensor version,\n",
    "    # but everything is a variable now\n",
    "    y_pred = x.mm(w1).clamp(min=0).mm(w2)\n",
    "    loss = (y_pred - y).pow(2).sum()\n",
    "    \n",
    "    # Compute gradients of loss with respect to w1 and w2(zero out grads first)\n",
    "    if hasattr(w1, 'grad'): w1.grad.data.zero_()\n",
    "    if hasattr(w2, 'grad'): w2.grad.data.zero_()\n",
    "    loss.backward()\n",
    "    \n",
    "    # Make gradient descent step on weights\n",
    "    w1.data -= learning_rate * w1.grad.data\n",
    "    w2.data -= learning_rate * w2.grad.data"
   ]
  }
 ],
 "metadata": {
  "kernelspec": {
   "display_name": "Python 3",
   "language": "python",
   "name": "python3"
  },
  "language_info": {
   "codemirror_mode": {
    "name": "ipython",
    "version": 3
   },
   "file_extension": ".py",
   "mimetype": "text/x-python",
   "name": "python",
   "nbconvert_exporter": "python",
   "pygments_lexer": "ipython3",
   "version": "3.6.5"
  }
 },
 "nbformat": 4,
 "nbformat_minor": 2
}
