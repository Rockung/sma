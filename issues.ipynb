{
 "cells": [
  {
   "cell_type": "markdown",
   "metadata": {},
   "source": [
    "## 在多个python环境中安装Kernel\n",
    "\n",
    "假设之前的jupyter安装在python2.x环境中\n",
    "\n",
    "* pip3 install ipykernel\n",
    "* python3 -m ipykernel install --user\n",
    "\n",
    "如果之前jupyter安装在python3.x环境中\n",
    "\n",
    "* pip2 install ipykernel\n",
    "* python2 -m ipykernel install --user"
   ]
  },
  {
   "cell_type": "markdown",
   "metadata": {},
   "source": [
    "## 在Window下把fast.ai转换为python 3\n",
    "* conda install theano=0.9.0\n",
    "* conda install keras=1.2.2\n",
    "* conda install pydot-ng"
   ]
  },
  {
   "cell_type": "markdown",
   "metadata": {},
   "source": [
    "## Matplotlib-Animation “No MovieWriters Available”\n",
    "* conda install -c conda-forge ffmpeg"
   ]
  },
  {
   "cell_type": "markdown",
   "metadata": {},
   "source": [
    "## cannot import name inplace_increment\n",
    "安装好了theano运行时出现theano cannot import name inplace_increment\n",
    "* theano-cache purge"
   ]
  },
  {
   "cell_type": "markdown",
   "metadata": {},
   "source": [
    "## Import Error: no module named 'past'\n",
    "'past'模块在'future'包中\n",
    "* pip install future"
   ]
  },
  {
   "cell_type": "markdown",
   "metadata": {},
   "source": [
    "## TypeError: slice indices must be integers or None or have an __index__ method\n",
    "\n",
    "在使用Python进行矩阵操作时，当内部含有除法时，会产生此错误。例如：\n",
    "```\n",
    "img=np.hstack((a[:,0:100/2],b[:,100/2,:])) \n",
    "```\n",
    "由于除法/自动产生的类型是浮点型，因此出现上述错误，修正方法为，将/更改为//\n",
    "代码为：\n",
    "```\n",
    "img=np.hstack((a[:,0:100//2],b[:,100//2,:])) \n",
    "```"
   ]
  }
 ],
 "metadata": {
  "kernelspec": {
   "display_name": "Python 3",
   "language": "python",
   "name": "python3"
  },
  "language_info": {
   "codemirror_mode": {
    "name": "ipython",
    "version": 3
   },
   "file_extension": ".py",
   "mimetype": "text/x-python",
   "name": "python",
   "nbconvert_exporter": "python",
   "pygments_lexer": "ipython3",
   "version": "3.6.5"
  }
 },
 "nbformat": 4,
 "nbformat_minor": 2
}
